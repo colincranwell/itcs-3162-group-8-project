{
 "cells": [
  {
   "cell_type": "code",
   "execution_count": 629,
   "metadata": {},
   "outputs": [],
   "source": [
    "import pandas as pd\n",
    "from matplotlib import pyplot as plt\n",
    "import seaborn as sns\n",
    "import numpy as np\n"
   ]
  },
  {
   "cell_type": "code",
   "execution_count": 663,
   "metadata": {},
   "outputs": [],
   "source": [
    "NHL_team_stats = pd.read_csv('NHL_Dataset/game_teams_stats.csv')"
   ]
  },
  {
   "attachments": {},
   "cell_type": "markdown",
   "metadata": {},
   "source": [
    "**NHL Team Stats**"
   ]
  },
  {
   "cell_type": "code",
   "execution_count": 664,
   "metadata": {},
   "outputs": [
    {
     "data": {
      "text/html": [
       "<div>\n",
       "<style scoped>\n",
       "    .dataframe tbody tr th:only-of-type {\n",
       "        vertical-align: middle;\n",
       "    }\n",
       "\n",
       "    .dataframe tbody tr th {\n",
       "        vertical-align: top;\n",
       "    }\n",
       "\n",
       "    .dataframe thead th {\n",
       "        text-align: right;\n",
       "    }\n",
       "</style>\n",
       "<table border=\"1\" class=\"dataframe\">\n",
       "  <thead>\n",
       "    <tr style=\"text-align: right;\">\n",
       "      <th></th>\n",
       "      <th>game_id</th>\n",
       "      <th>team_id</th>\n",
       "      <th>HoA</th>\n",
       "      <th>won</th>\n",
       "      <th>settled_in</th>\n",
       "      <th>head_coach</th>\n",
       "      <th>goals</th>\n",
       "      <th>shots</th>\n",
       "      <th>hits</th>\n",
       "      <th>pim</th>\n",
       "      <th>powerPlayOpportunities</th>\n",
       "      <th>powerPlayGoals</th>\n",
       "      <th>faceOffWinPercentage</th>\n",
       "      <th>giveaways</th>\n",
       "      <th>takeaways</th>\n",
       "      <th>blocked</th>\n",
       "      <th>startRinkSide</th>\n",
       "    </tr>\n",
       "  </thead>\n",
       "  <tbody>\n",
       "    <tr>\n",
       "      <th>0</th>\n",
       "      <td>2016020045</td>\n",
       "      <td>4</td>\n",
       "      <td>away</td>\n",
       "      <td>False</td>\n",
       "      <td>REG</td>\n",
       "      <td>Dave Hakstol</td>\n",
       "      <td>4.0</td>\n",
       "      <td>27.0</td>\n",
       "      <td>30.0</td>\n",
       "      <td>6.0</td>\n",
       "      <td>4.0</td>\n",
       "      <td>2.0</td>\n",
       "      <td>50.9</td>\n",
       "      <td>12.0</td>\n",
       "      <td>9.0</td>\n",
       "      <td>11.0</td>\n",
       "      <td>left</td>\n",
       "    </tr>\n",
       "    <tr>\n",
       "      <th>1</th>\n",
       "      <td>2016020045</td>\n",
       "      <td>16</td>\n",
       "      <td>home</td>\n",
       "      <td>True</td>\n",
       "      <td>REG</td>\n",
       "      <td>Joel Quenneville</td>\n",
       "      <td>7.0</td>\n",
       "      <td>28.0</td>\n",
       "      <td>20.0</td>\n",
       "      <td>8.0</td>\n",
       "      <td>3.0</td>\n",
       "      <td>2.0</td>\n",
       "      <td>49.1</td>\n",
       "      <td>16.0</td>\n",
       "      <td>8.0</td>\n",
       "      <td>9.0</td>\n",
       "      <td>left</td>\n",
       "    </tr>\n",
       "    <tr>\n",
       "      <th>2</th>\n",
       "      <td>2017020812</td>\n",
       "      <td>24</td>\n",
       "      <td>away</td>\n",
       "      <td>True</td>\n",
       "      <td>OT</td>\n",
       "      <td>Randy Carlyle</td>\n",
       "      <td>4.0</td>\n",
       "      <td>34.0</td>\n",
       "      <td>16.0</td>\n",
       "      <td>6.0</td>\n",
       "      <td>3.0</td>\n",
       "      <td>1.0</td>\n",
       "      <td>43.8</td>\n",
       "      <td>7.0</td>\n",
       "      <td>4.0</td>\n",
       "      <td>14.0</td>\n",
       "      <td>right</td>\n",
       "    </tr>\n",
       "    <tr>\n",
       "      <th>3</th>\n",
       "      <td>2017020812</td>\n",
       "      <td>7</td>\n",
       "      <td>home</td>\n",
       "      <td>False</td>\n",
       "      <td>OT</td>\n",
       "      <td>Phil Housley</td>\n",
       "      <td>3.0</td>\n",
       "      <td>33.0</td>\n",
       "      <td>17.0</td>\n",
       "      <td>8.0</td>\n",
       "      <td>2.0</td>\n",
       "      <td>1.0</td>\n",
       "      <td>56.2</td>\n",
       "      <td>5.0</td>\n",
       "      <td>6.0</td>\n",
       "      <td>14.0</td>\n",
       "      <td>right</td>\n",
       "    </tr>\n",
       "    <tr>\n",
       "      <th>4</th>\n",
       "      <td>2015020314</td>\n",
       "      <td>21</td>\n",
       "      <td>away</td>\n",
       "      <td>True</td>\n",
       "      <td>REG</td>\n",
       "      <td>Patrick Roy</td>\n",
       "      <td>4.0</td>\n",
       "      <td>29.0</td>\n",
       "      <td>17.0</td>\n",
       "      <td>9.0</td>\n",
       "      <td>3.0</td>\n",
       "      <td>1.0</td>\n",
       "      <td>45.7</td>\n",
       "      <td>13.0</td>\n",
       "      <td>5.0</td>\n",
       "      <td>20.0</td>\n",
       "      <td>left</td>\n",
       "    </tr>\n",
       "    <tr>\n",
       "      <th>5</th>\n",
       "      <td>2015020314</td>\n",
       "      <td>52</td>\n",
       "      <td>home</td>\n",
       "      <td>False</td>\n",
       "      <td>REG</td>\n",
       "      <td>Paul Maurice</td>\n",
       "      <td>1.0</td>\n",
       "      <td>21.0</td>\n",
       "      <td>22.0</td>\n",
       "      <td>11.0</td>\n",
       "      <td>2.0</td>\n",
       "      <td>0.0</td>\n",
       "      <td>54.3</td>\n",
       "      <td>13.0</td>\n",
       "      <td>7.0</td>\n",
       "      <td>9.0</td>\n",
       "      <td>left</td>\n",
       "    </tr>\n",
       "    <tr>\n",
       "      <th>6</th>\n",
       "      <td>2015020849</td>\n",
       "      <td>52</td>\n",
       "      <td>away</td>\n",
       "      <td>False</td>\n",
       "      <td>REG</td>\n",
       "      <td>Paul Maurice</td>\n",
       "      <td>1.0</td>\n",
       "      <td>21.0</td>\n",
       "      <td>21.0</td>\n",
       "      <td>10.0</td>\n",
       "      <td>4.0</td>\n",
       "      <td>0.0</td>\n",
       "      <td>31.4</td>\n",
       "      <td>4.0</td>\n",
       "      <td>14.0</td>\n",
       "      <td>16.0</td>\n",
       "      <td>left</td>\n",
       "    </tr>\n",
       "    <tr>\n",
       "      <th>7</th>\n",
       "      <td>2015020849</td>\n",
       "      <td>12</td>\n",
       "      <td>home</td>\n",
       "      <td>True</td>\n",
       "      <td>REG</td>\n",
       "      <td>Bill Peters</td>\n",
       "      <td>2.0</td>\n",
       "      <td>29.0</td>\n",
       "      <td>16.0</td>\n",
       "      <td>8.0</td>\n",
       "      <td>5.0</td>\n",
       "      <td>2.0</td>\n",
       "      <td>68.6</td>\n",
       "      <td>12.0</td>\n",
       "      <td>11.0</td>\n",
       "      <td>13.0</td>\n",
       "      <td>left</td>\n",
       "    </tr>\n",
       "    <tr>\n",
       "      <th>8</th>\n",
       "      <td>2017020586</td>\n",
       "      <td>20</td>\n",
       "      <td>away</td>\n",
       "      <td>False</td>\n",
       "      <td>REG</td>\n",
       "      <td>Glen Gulutzan</td>\n",
       "      <td>1.0</td>\n",
       "      <td>23.0</td>\n",
       "      <td>20.0</td>\n",
       "      <td>19.0</td>\n",
       "      <td>3.0</td>\n",
       "      <td>0.0</td>\n",
       "      <td>54.7</td>\n",
       "      <td>10.0</td>\n",
       "      <td>4.0</td>\n",
       "      <td>7.0</td>\n",
       "      <td>right</td>\n",
       "    </tr>\n",
       "    <tr>\n",
       "      <th>9</th>\n",
       "      <td>2017020586</td>\n",
       "      <td>24</td>\n",
       "      <td>home</td>\n",
       "      <td>True</td>\n",
       "      <td>REG</td>\n",
       "      <td>Randy Carlyle</td>\n",
       "      <td>2.0</td>\n",
       "      <td>41.0</td>\n",
       "      <td>15.0</td>\n",
       "      <td>13.0</td>\n",
       "      <td>6.0</td>\n",
       "      <td>1.0</td>\n",
       "      <td>45.3</td>\n",
       "      <td>13.0</td>\n",
       "      <td>4.0</td>\n",
       "      <td>21.0</td>\n",
       "      <td>right</td>\n",
       "    </tr>\n",
       "  </tbody>\n",
       "</table>\n",
       "</div>"
      ],
      "text/plain": [
       "      game_id  team_id   HoA    won settled_in        head_coach  goals  \\\n",
       "0  2016020045        4  away  False        REG      Dave Hakstol    4.0   \n",
       "1  2016020045       16  home   True        REG  Joel Quenneville    7.0   \n",
       "2  2017020812       24  away   True         OT     Randy Carlyle    4.0   \n",
       "3  2017020812        7  home  False         OT      Phil Housley    3.0   \n",
       "4  2015020314       21  away   True        REG       Patrick Roy    4.0   \n",
       "5  2015020314       52  home  False        REG      Paul Maurice    1.0   \n",
       "6  2015020849       52  away  False        REG      Paul Maurice    1.0   \n",
       "7  2015020849       12  home   True        REG       Bill Peters    2.0   \n",
       "8  2017020586       20  away  False        REG     Glen Gulutzan    1.0   \n",
       "9  2017020586       24  home   True        REG     Randy Carlyle    2.0   \n",
       "\n",
       "   shots  hits   pim  powerPlayOpportunities  powerPlayGoals  \\\n",
       "0   27.0  30.0   6.0                     4.0             2.0   \n",
       "1   28.0  20.0   8.0                     3.0             2.0   \n",
       "2   34.0  16.0   6.0                     3.0             1.0   \n",
       "3   33.0  17.0   8.0                     2.0             1.0   \n",
       "4   29.0  17.0   9.0                     3.0             1.0   \n",
       "5   21.0  22.0  11.0                     2.0             0.0   \n",
       "6   21.0  21.0  10.0                     4.0             0.0   \n",
       "7   29.0  16.0   8.0                     5.0             2.0   \n",
       "8   23.0  20.0  19.0                     3.0             0.0   \n",
       "9   41.0  15.0  13.0                     6.0             1.0   \n",
       "\n",
       "   faceOffWinPercentage  giveaways  takeaways  blocked startRinkSide  \n",
       "0                  50.9       12.0        9.0     11.0          left  \n",
       "1                  49.1       16.0        8.0      9.0          left  \n",
       "2                  43.8        7.0        4.0     14.0         right  \n",
       "3                  56.2        5.0        6.0     14.0         right  \n",
       "4                  45.7       13.0        5.0     20.0          left  \n",
       "5                  54.3       13.0        7.0      9.0          left  \n",
       "6                  31.4        4.0       14.0     16.0          left  \n",
       "7                  68.6       12.0       11.0     13.0          left  \n",
       "8                  54.7       10.0        4.0      7.0         right  \n",
       "9                  45.3       13.0        4.0     21.0         right  "
      ]
     },
     "execution_count": 664,
     "metadata": {},
     "output_type": "execute_result"
    }
   ],
   "source": [
    "NHL_team_stats.head(10)"
   ]
  },
  {
   "cell_type": "code",
   "execution_count": 665,
   "metadata": {},
   "outputs": [
    {
     "data": {
      "text/html": [
       "<div>\n",
       "<style scoped>\n",
       "    .dataframe tbody tr th:only-of-type {\n",
       "        vertical-align: middle;\n",
       "    }\n",
       "\n",
       "    .dataframe tbody tr th {\n",
       "        vertical-align: top;\n",
       "    }\n",
       "\n",
       "    .dataframe thead th {\n",
       "        text-align: right;\n",
       "    }\n",
       "</style>\n",
       "<table border=\"1\" class=\"dataframe\">\n",
       "  <thead>\n",
       "    <tr style=\"text-align: right;\">\n",
       "      <th></th>\n",
       "      <th>game_id</th>\n",
       "      <th>team_id</th>\n",
       "      <th>goals</th>\n",
       "      <th>shots</th>\n",
       "      <th>hits</th>\n",
       "      <th>pim</th>\n",
       "      <th>powerPlayOpportunities</th>\n",
       "      <th>powerPlayGoals</th>\n",
       "      <th>faceOffWinPercentage</th>\n",
       "      <th>giveaways</th>\n",
       "      <th>takeaways</th>\n",
       "      <th>blocked</th>\n",
       "    </tr>\n",
       "  </thead>\n",
       "  <tbody>\n",
       "    <tr>\n",
       "      <th>count</th>\n",
       "      <td>5.261000e+04</td>\n",
       "      <td>52610.000000</td>\n",
       "      <td>52602.000000</td>\n",
       "      <td>52602.000000</td>\n",
       "      <td>47682.000000</td>\n",
       "      <td>52602.000000</td>\n",
       "      <td>52602.000000</td>\n",
       "      <td>52602.000000</td>\n",
       "      <td>30462.000000</td>\n",
       "      <td>47682.000000</td>\n",
       "      <td>47682.000000</td>\n",
       "      <td>47682.000000</td>\n",
       "    </tr>\n",
       "    <tr>\n",
       "      <th>mean</th>\n",
       "      <td>2.010765e+09</td>\n",
       "      <td>16.880403</td>\n",
       "      <td>2.781282</td>\n",
       "      <td>29.930744</td>\n",
       "      <td>21.127449</td>\n",
       "      <td>11.754838</td>\n",
       "      <td>3.693567</td>\n",
       "      <td>0.667674</td>\n",
       "      <td>49.967179</td>\n",
       "      <td>8.832977</td>\n",
       "      <td>6.745040</td>\n",
       "      <td>13.317352</td>\n",
       "    </tr>\n",
       "    <tr>\n",
       "      <th>std</th>\n",
       "      <td>6.073510e+06</td>\n",
       "      <td>11.195171</td>\n",
       "      <td>1.657257</td>\n",
       "      <td>6.896107</td>\n",
       "      <td>9.237332</td>\n",
       "      <td>9.029566</td>\n",
       "      <td>1.870606</td>\n",
       "      <td>0.813093</td>\n",
       "      <td>7.326322</td>\n",
       "      <td>5.478274</td>\n",
       "      <td>4.144502</td>\n",
       "      <td>5.581261</td>\n",
       "    </tr>\n",
       "    <tr>\n",
       "      <th>min</th>\n",
       "      <td>2.000020e+09</td>\n",
       "      <td>1.000000</td>\n",
       "      <td>0.000000</td>\n",
       "      <td>0.000000</td>\n",
       "      <td>0.000000</td>\n",
       "      <td>0.000000</td>\n",
       "      <td>0.000000</td>\n",
       "      <td>0.000000</td>\n",
       "      <td>0.000000</td>\n",
       "      <td>0.000000</td>\n",
       "      <td>0.000000</td>\n",
       "      <td>0.000000</td>\n",
       "    </tr>\n",
       "    <tr>\n",
       "      <th>25%</th>\n",
       "      <td>2.006020e+09</td>\n",
       "      <td>8.000000</td>\n",
       "      <td>2.000000</td>\n",
       "      <td>25.000000</td>\n",
       "      <td>15.000000</td>\n",
       "      <td>6.000000</td>\n",
       "      <td>2.000000</td>\n",
       "      <td>0.000000</td>\n",
       "      <td>45.200000</td>\n",
       "      <td>5.000000</td>\n",
       "      <td>4.000000</td>\n",
       "      <td>10.000000</td>\n",
       "    </tr>\n",
       "    <tr>\n",
       "      <th>50%</th>\n",
       "      <td>2.011021e+09</td>\n",
       "      <td>16.000000</td>\n",
       "      <td>3.000000</td>\n",
       "      <td>30.000000</td>\n",
       "      <td>20.000000</td>\n",
       "      <td>10.000000</td>\n",
       "      <td>3.000000</td>\n",
       "      <td>0.000000</td>\n",
       "      <td>50.000000</td>\n",
       "      <td>8.000000</td>\n",
       "      <td>6.000000</td>\n",
       "      <td>13.000000</td>\n",
       "    </tr>\n",
       "    <tr>\n",
       "      <th>75%</th>\n",
       "      <td>2.016030e+09</td>\n",
       "      <td>24.000000</td>\n",
       "      <td>4.000000</td>\n",
       "      <td>34.000000</td>\n",
       "      <td>27.000000</td>\n",
       "      <td>15.000000</td>\n",
       "      <td>5.000000</td>\n",
       "      <td>1.000000</td>\n",
       "      <td>54.800000</td>\n",
       "      <td>12.000000</td>\n",
       "      <td>9.000000</td>\n",
       "      <td>17.000000</td>\n",
       "    </tr>\n",
       "    <tr>\n",
       "      <th>max</th>\n",
       "      <td>2.019041e+09</td>\n",
       "      <td>90.000000</td>\n",
       "      <td>12.000000</td>\n",
       "      <td>88.000000</td>\n",
       "      <td>80.000000</td>\n",
       "      <td>213.000000</td>\n",
       "      <td>16.000000</td>\n",
       "      <td>7.000000</td>\n",
       "      <td>79.200000</td>\n",
       "      <td>52.000000</td>\n",
       "      <td>40.000000</td>\n",
       "      <td>62.000000</td>\n",
       "    </tr>\n",
       "  </tbody>\n",
       "</table>\n",
       "</div>"
      ],
      "text/plain": [
       "            game_id       team_id         goals         shots          hits  \\\n",
       "count  5.261000e+04  52610.000000  52602.000000  52602.000000  47682.000000   \n",
       "mean   2.010765e+09     16.880403      2.781282     29.930744     21.127449   \n",
       "std    6.073510e+06     11.195171      1.657257      6.896107      9.237332   \n",
       "min    2.000020e+09      1.000000      0.000000      0.000000      0.000000   \n",
       "25%    2.006020e+09      8.000000      2.000000     25.000000     15.000000   \n",
       "50%    2.011021e+09     16.000000      3.000000     30.000000     20.000000   \n",
       "75%    2.016030e+09     24.000000      4.000000     34.000000     27.000000   \n",
       "max    2.019041e+09     90.000000     12.000000     88.000000     80.000000   \n",
       "\n",
       "                pim  powerPlayOpportunities  powerPlayGoals  \\\n",
       "count  52602.000000            52602.000000    52602.000000   \n",
       "mean      11.754838                3.693567        0.667674   \n",
       "std        9.029566                1.870606        0.813093   \n",
       "min        0.000000                0.000000        0.000000   \n",
       "25%        6.000000                2.000000        0.000000   \n",
       "50%       10.000000                3.000000        0.000000   \n",
       "75%       15.000000                5.000000        1.000000   \n",
       "max      213.000000               16.000000        7.000000   \n",
       "\n",
       "       faceOffWinPercentage     giveaways     takeaways       blocked  \n",
       "count          30462.000000  47682.000000  47682.000000  47682.000000  \n",
       "mean              49.967179      8.832977      6.745040     13.317352  \n",
       "std                7.326322      5.478274      4.144502      5.581261  \n",
       "min                0.000000      0.000000      0.000000      0.000000  \n",
       "25%               45.200000      5.000000      4.000000     10.000000  \n",
       "50%               50.000000      8.000000      6.000000     13.000000  \n",
       "75%               54.800000     12.000000      9.000000     17.000000  \n",
       "max               79.200000     52.000000     40.000000     62.000000  "
      ]
     },
     "execution_count": 665,
     "metadata": {},
     "output_type": "execute_result"
    }
   ],
   "source": [
    "NHL_team_stats.describe()"
   ]
  },
  {
   "cell_type": "code",
   "execution_count": 666,
   "metadata": {},
   "outputs": [
    {
     "data": {
      "text/plain": [
       "(52610, 17)"
      ]
     },
     "execution_count": 666,
     "metadata": {},
     "output_type": "execute_result"
    }
   ],
   "source": [
    "NHL_team_stats.shape"
   ]
  },
  {
   "cell_type": "code",
   "execution_count": 667,
   "metadata": {},
   "outputs": [
    {
     "name": "stdout",
     "output_type": "stream",
     "text": [
      "<class 'pandas.core.frame.DataFrame'>\n",
      "RangeIndex: 52610 entries, 0 to 52609\n",
      "Data columns (total 17 columns):\n",
      " #   Column                  Non-Null Count  Dtype  \n",
      "---  ------                  --------------  -----  \n",
      " 0   game_id                 52610 non-null  int64  \n",
      " 1   team_id                 52610 non-null  int64  \n",
      " 2   HoA                     52610 non-null  object \n",
      " 3   won                     52610 non-null  bool   \n",
      " 4   settled_in              52610 non-null  object \n",
      " 5   head_coach              52582 non-null  object \n",
      " 6   goals                   52602 non-null  float64\n",
      " 7   shots                   52602 non-null  float64\n",
      " 8   hits                    47682 non-null  float64\n",
      " 9   pim                     52602 non-null  float64\n",
      " 10  powerPlayOpportunities  52602 non-null  float64\n",
      " 11  powerPlayGoals          52602 non-null  float64\n",
      " 12  faceOffWinPercentage    30462 non-null  float64\n",
      " 13  giveaways               47682 non-null  float64\n",
      " 14  takeaways               47682 non-null  float64\n",
      " 15  blocked                 47682 non-null  float64\n",
      " 16  startRinkSide           50218 non-null  object \n",
      "dtypes: bool(1), float64(10), int64(2), object(4)\n",
      "memory usage: 6.5+ MB\n"
     ]
    }
   ],
   "source": [
    "NHL_team_stats.info()"
   ]
  },
  {
   "attachments": {},
   "cell_type": "markdown",
   "metadata": {},
   "source": [
    "**NHL Team Stats Preprocessing**"
   ]
  },
  {
   "cell_type": "code",
   "execution_count": 668,
   "metadata": {},
   "outputs": [
    {
     "data": {
      "text/plain": [
       "np.int64(5140)"
      ]
     },
     "execution_count": 668,
     "metadata": {},
     "output_type": "execute_result"
    }
   ],
   "source": [
    "NHL_team_stats.duplicated().sum()"
   ]
  },
  {
   "cell_type": "code",
   "execution_count": 669,
   "metadata": {},
   "outputs": [],
   "source": [
    "NHL_team_stats.drop_duplicates(inplace=True)"
   ]
  },
  {
   "cell_type": "code",
   "execution_count": 670,
   "metadata": {},
   "outputs": [
    {
     "data": {
      "text/plain": [
       "np.int64(0)"
      ]
     },
     "execution_count": 670,
     "metadata": {},
     "output_type": "execute_result"
    }
   ],
   "source": [
    "NHL_team_stats.duplicated().sum()"
   ]
  },
  {
   "cell_type": "code",
   "execution_count": 671,
   "metadata": {},
   "outputs": [
    {
     "data": {
      "text/plain": [
       "game_id                       0\n",
       "team_id                       0\n",
       "HoA                           0\n",
       "won                           0\n",
       "settled_in                    0\n",
       "head_coach                   28\n",
       "goals                         8\n",
       "shots                         8\n",
       "hits                       4928\n",
       "pim                           8\n",
       "powerPlayOpportunities        8\n",
       "powerPlayGoals                8\n",
       "faceOffWinPercentage      22148\n",
       "giveaways                  4928\n",
       "takeaways                  4928\n",
       "blocked                    4928\n",
       "startRinkSide              2198\n",
       "dtype: int64"
      ]
     },
     "execution_count": 671,
     "metadata": {},
     "output_type": "execute_result"
    }
   ],
   "source": [
    "NHL_team_stats.isna().sum()\n"
   ]
  },
  {
   "cell_type": "code",
   "execution_count": 672,
   "metadata": {},
   "outputs": [],
   "source": [
    "##Drop rows that contain nulls(28) from head_coach \n",
    "NHL_team_stats.dropna(subset=['head_coach'], inplace=True)"
   ]
  },
  {
   "cell_type": "code",
   "execution_count": 673,
   "metadata": {},
   "outputs": [
    {
     "name": "stderr",
     "output_type": "stream",
     "text": [
      "/var/folders/wp/_md01_w96yl1j67nw99z0_5m0000gn/T/ipykernel_24022/801245331.py:2: FutureWarning: A value is trying to be set on a copy of a DataFrame or Series through chained assignment using an inplace method.\n",
      "The behavior will change in pandas 3.0. This inplace method will never work because the intermediate object on which we are setting values always behaves as a copy.\n",
      "\n",
      "For example, when doing 'df[col].method(value, inplace=True)', try using 'df.method({col: value}, inplace=True)' or df[col] = df[col].method(value) instead, to perform the operation inplace on the original object.\n",
      "\n",
      "\n",
      "  NHL_team_stats['hits'].fillna(NHL_team_stats['hits'].median(), inplace=True)\n"
     ]
    }
   ],
   "source": [
    "##Fill in hits nulls with the median \n",
    "NHL_team_stats['hits'].fillna(NHL_team_stats['hits'].median(), inplace=True)"
   ]
  },
  {
   "cell_type": "code",
   "execution_count": 674,
   "metadata": {},
   "outputs": [
    {
     "name": "stderr",
     "output_type": "stream",
     "text": [
      "/var/folders/wp/_md01_w96yl1j67nw99z0_5m0000gn/T/ipykernel_24022/211231403.py:2: FutureWarning: A value is trying to be set on a copy of a DataFrame or Series through chained assignment using an inplace method.\n",
      "The behavior will change in pandas 3.0. This inplace method will never work because the intermediate object on which we are setting values always behaves as a copy.\n",
      "\n",
      "For example, when doing 'df[col].method(value, inplace=True)', try using 'df.method({col: value}, inplace=True)' or df[col] = df[col].method(value) instead, to perform the operation inplace on the original object.\n",
      "\n",
      "\n",
      "  NHL_team_stats['giveaways'].fillna(NHL_team_stats['giveaways'].median(), inplace=True)\n"
     ]
    }
   ],
   "source": [
    "##Fill in giveaways nulls with the median \n",
    "NHL_team_stats['giveaways'].fillna(NHL_team_stats['giveaways'].median(), inplace=True)"
   ]
  },
  {
   "cell_type": "code",
   "execution_count": 675,
   "metadata": {},
   "outputs": [
    {
     "name": "stderr",
     "output_type": "stream",
     "text": [
      "/var/folders/wp/_md01_w96yl1j67nw99z0_5m0000gn/T/ipykernel_24022/690287450.py:2: FutureWarning: A value is trying to be set on a copy of a DataFrame or Series through chained assignment using an inplace method.\n",
      "The behavior will change in pandas 3.0. This inplace method will never work because the intermediate object on which we are setting values always behaves as a copy.\n",
      "\n",
      "For example, when doing 'df[col].method(value, inplace=True)', try using 'df.method({col: value}, inplace=True)' or df[col] = df[col].method(value) instead, to perform the operation inplace on the original object.\n",
      "\n",
      "\n",
      "  NHL_team_stats['takeaways'].fillna(NHL_team_stats['takeaways'].median(), inplace=True)\n"
     ]
    }
   ],
   "source": [
    "##Fill in takeaways nulls with the median \n",
    "NHL_team_stats['takeaways'].fillna(NHL_team_stats['takeaways'].median(), inplace=True)"
   ]
  },
  {
   "cell_type": "code",
   "execution_count": 676,
   "metadata": {},
   "outputs": [
    {
     "name": "stderr",
     "output_type": "stream",
     "text": [
      "/var/folders/wp/_md01_w96yl1j67nw99z0_5m0000gn/T/ipykernel_24022/4237570351.py:2: FutureWarning: A value is trying to be set on a copy of a DataFrame or Series through chained assignment using an inplace method.\n",
      "The behavior will change in pandas 3.0. This inplace method will never work because the intermediate object on which we are setting values always behaves as a copy.\n",
      "\n",
      "For example, when doing 'df[col].method(value, inplace=True)', try using 'df.method({col: value}, inplace=True)' or df[col] = df[col].method(value) instead, to perform the operation inplace on the original object.\n",
      "\n",
      "\n",
      "  NHL_team_stats['blocked'].fillna(NHL_team_stats['blocked'].median(), inplace=True)\n"
     ]
    }
   ],
   "source": [
    "##Fill in blocked nulls with the median \n",
    "NHL_team_stats['blocked'].fillna(NHL_team_stats['blocked'].median(), inplace=True)"
   ]
  },
  {
   "cell_type": "code",
   "execution_count": 677,
   "metadata": {},
   "outputs": [
    {
     "name": "stderr",
     "output_type": "stream",
     "text": [
      "/var/folders/wp/_md01_w96yl1j67nw99z0_5m0000gn/T/ipykernel_24022/1171379847.py:2: FutureWarning: Setting an item of incompatible dtype is deprecated and will raise an error in a future version of pandas. Value '<bound method Series.median of 0        50.9\n",
      "1        49.1\n",
      "2        43.8\n",
      "3        56.2\n",
      "4        45.7\n",
      "         ... \n",
      "52599    40.6\n",
      "52602    41.3\n",
      "52603    58.7\n",
      "52606    49.0\n",
      "52607    51.0\n",
      "Name: faceOffWinPercentage, Length: 47442, dtype: float64>' has dtype incompatible with float64, please explicitly cast to a compatible dtype first.\n",
      "  NHL_team_stats['faceOffWinPercentage'].fillna(NHL_team_stats['faceOffWinPercentage'].median, inplace=True)\n"
     ]
    }
   ],
   "source": [
    "## Fill in faceOffWinPercentage nulls with median\n",
    "NHL_team_stats['faceOffWinPercentage'].fillna(NHL_team_stats['faceOffWinPercentage'].median, inplace=True)"
   ]
  },
  {
   "cell_type": "code",
   "execution_count": 678,
   "metadata": {},
   "outputs": [],
   "source": [
    "##Fill in startRinkSide nulls with mode \n",
    "NHL_team_stats['startRinkSide'].fillna(NHL_team_stats['startRinkSide'].mode, inplace=True)"
   ]
  },
  {
   "cell_type": "code",
   "execution_count": 679,
   "metadata": {},
   "outputs": [],
   "source": [
    "# Remove column HoA, head_coach, startRinkSide, and settled_in\n",
    "NHL_team_stats.drop(['HoA', 'head_coach','startRinkSide', 'settled_in'], axis=1, inplace=True)"
   ]
  },
  {
   "cell_type": "code",
   "execution_count": 680,
   "metadata": {},
   "outputs": [],
   "source": [
    "# Convert won to binary\n",
    "NHL_team_stats['won'] = NHL_team_stats['won'].astype(int)"
   ]
  },
  {
   "cell_type": "code",
   "execution_count": 681,
   "metadata": {},
   "outputs": [
    {
     "name": "stderr",
     "output_type": "stream",
     "text": [
      "/var/folders/wp/_md01_w96yl1j67nw99z0_5m0000gn/T/ipykernel_24022/201396392.py:5: FutureWarning: A value is trying to be set on a copy of a DataFrame or Series through chained assignment using an inplace method.\n",
      "The behavior will change in pandas 3.0. This inplace method will never work because the intermediate object on which we are setting values always behaves as a copy.\n",
      "\n",
      "For example, when doing 'df[col].method(value, inplace=True)', try using 'df.method({col: value}, inplace=True)' or df[col] = df[col].method(value) instead, to perform the operation inplace on the original object.\n",
      "\n",
      "\n",
      "  NHL_team_stats['faceOffWinPercentage'].fillna(0, inplace=True)\n"
     ]
    }
   ],
   "source": [
    "# Convert 'settled_in' and 'faceOffWinPercentage' to numeric\n",
    "NHL_team_stats['faceOffWinPercentage'] = pd.to_numeric(NHL_team_stats['faceOffWinPercentage'], errors='coerce')\n",
    "\n",
    "# Fill NaN values with a default value (e.g., 0)\n",
    "NHL_team_stats['faceOffWinPercentage'].fillna(0, inplace=True)\n",
    "\n",
    "# Convert to integer type\n",
    "NHL_team_stats['faceOffWinPercentage'] = NHL_team_stats['faceOffWinPercentage'].astype(int)\n"
   ]
  },
  {
   "attachments": {},
   "cell_type": "markdown",
   "metadata": {},
   "source": [
    "*Reanalyze Data*"
   ]
  },
  {
   "cell_type": "code",
   "execution_count": 682,
   "metadata": {},
   "outputs": [
    {
     "data": {
      "text/plain": [
       "game_id                   0\n",
       "team_id                   0\n",
       "won                       0\n",
       "goals                     0\n",
       "shots                     0\n",
       "hits                      0\n",
       "pim                       0\n",
       "powerPlayOpportunities    0\n",
       "powerPlayGoals            0\n",
       "faceOffWinPercentage      0\n",
       "giveaways                 0\n",
       "takeaways                 0\n",
       "blocked                   0\n",
       "dtype: int64"
      ]
     },
     "execution_count": 682,
     "metadata": {},
     "output_type": "execute_result"
    }
   ],
   "source": [
    "NHL_team_stats.isna().sum()"
   ]
  },
  {
   "cell_type": "code",
   "execution_count": 683,
   "metadata": {},
   "outputs": [
    {
     "data": {
      "text/html": [
       "<div>\n",
       "<style scoped>\n",
       "    .dataframe tbody tr th:only-of-type {\n",
       "        vertical-align: middle;\n",
       "    }\n",
       "\n",
       "    .dataframe tbody tr th {\n",
       "        vertical-align: top;\n",
       "    }\n",
       "\n",
       "    .dataframe thead th {\n",
       "        text-align: right;\n",
       "    }\n",
       "</style>\n",
       "<table border=\"1\" class=\"dataframe\">\n",
       "  <thead>\n",
       "    <tr style=\"text-align: right;\">\n",
       "      <th></th>\n",
       "      <th>game_id</th>\n",
       "      <th>team_id</th>\n",
       "      <th>won</th>\n",
       "      <th>goals</th>\n",
       "      <th>shots</th>\n",
       "      <th>hits</th>\n",
       "      <th>pim</th>\n",
       "      <th>powerPlayOpportunities</th>\n",
       "      <th>powerPlayGoals</th>\n",
       "      <th>faceOffWinPercentage</th>\n",
       "      <th>giveaways</th>\n",
       "      <th>takeaways</th>\n",
       "      <th>blocked</th>\n",
       "    </tr>\n",
       "  </thead>\n",
       "  <tbody>\n",
       "    <tr>\n",
       "      <th>0</th>\n",
       "      <td>2016020045</td>\n",
       "      <td>4</td>\n",
       "      <td>0</td>\n",
       "      <td>4.0</td>\n",
       "      <td>27.0</td>\n",
       "      <td>30.0</td>\n",
       "      <td>6.0</td>\n",
       "      <td>4.0</td>\n",
       "      <td>2.0</td>\n",
       "      <td>50</td>\n",
       "      <td>12.0</td>\n",
       "      <td>9.0</td>\n",
       "      <td>11.0</td>\n",
       "    </tr>\n",
       "    <tr>\n",
       "      <th>1</th>\n",
       "      <td>2016020045</td>\n",
       "      <td>16</td>\n",
       "      <td>1</td>\n",
       "      <td>7.0</td>\n",
       "      <td>28.0</td>\n",
       "      <td>20.0</td>\n",
       "      <td>8.0</td>\n",
       "      <td>3.0</td>\n",
       "      <td>2.0</td>\n",
       "      <td>49</td>\n",
       "      <td>16.0</td>\n",
       "      <td>8.0</td>\n",
       "      <td>9.0</td>\n",
       "    </tr>\n",
       "    <tr>\n",
       "      <th>2</th>\n",
       "      <td>2017020812</td>\n",
       "      <td>24</td>\n",
       "      <td>1</td>\n",
       "      <td>4.0</td>\n",
       "      <td>34.0</td>\n",
       "      <td>16.0</td>\n",
       "      <td>6.0</td>\n",
       "      <td>3.0</td>\n",
       "      <td>1.0</td>\n",
       "      <td>43</td>\n",
       "      <td>7.0</td>\n",
       "      <td>4.0</td>\n",
       "      <td>14.0</td>\n",
       "    </tr>\n",
       "    <tr>\n",
       "      <th>3</th>\n",
       "      <td>2017020812</td>\n",
       "      <td>7</td>\n",
       "      <td>0</td>\n",
       "      <td>3.0</td>\n",
       "      <td>33.0</td>\n",
       "      <td>17.0</td>\n",
       "      <td>8.0</td>\n",
       "      <td>2.0</td>\n",
       "      <td>1.0</td>\n",
       "      <td>56</td>\n",
       "      <td>5.0</td>\n",
       "      <td>6.0</td>\n",
       "      <td>14.0</td>\n",
       "    </tr>\n",
       "    <tr>\n",
       "      <th>4</th>\n",
       "      <td>2015020314</td>\n",
       "      <td>21</td>\n",
       "      <td>1</td>\n",
       "      <td>4.0</td>\n",
       "      <td>29.0</td>\n",
       "      <td>17.0</td>\n",
       "      <td>9.0</td>\n",
       "      <td>3.0</td>\n",
       "      <td>1.0</td>\n",
       "      <td>45</td>\n",
       "      <td>13.0</td>\n",
       "      <td>5.0</td>\n",
       "      <td>20.0</td>\n",
       "    </tr>\n",
       "  </tbody>\n",
       "</table>\n",
       "</div>"
      ],
      "text/plain": [
       "      game_id  team_id  won  goals  shots  hits  pim  powerPlayOpportunities  \\\n",
       "0  2016020045        4    0    4.0   27.0  30.0  6.0                     4.0   \n",
       "1  2016020045       16    1    7.0   28.0  20.0  8.0                     3.0   \n",
       "2  2017020812       24    1    4.0   34.0  16.0  6.0                     3.0   \n",
       "3  2017020812        7    0    3.0   33.0  17.0  8.0                     2.0   \n",
       "4  2015020314       21    1    4.0   29.0  17.0  9.0                     3.0   \n",
       "\n",
       "   powerPlayGoals  faceOffWinPercentage  giveaways  takeaways  blocked  \n",
       "0             2.0                    50       12.0        9.0     11.0  \n",
       "1             2.0                    49       16.0        8.0      9.0  \n",
       "2             1.0                    43        7.0        4.0     14.0  \n",
       "3             1.0                    56        5.0        6.0     14.0  \n",
       "4             1.0                    45       13.0        5.0     20.0  "
      ]
     },
     "execution_count": 683,
     "metadata": {},
     "output_type": "execute_result"
    }
   ],
   "source": [
    "NHL_team_stats.head()"
   ]
  },
  {
   "cell_type": "code",
   "execution_count": 684,
   "metadata": {},
   "outputs": [
    {
     "data": {
      "text/plain": [
       "(47442, 13)"
      ]
     },
     "execution_count": 684,
     "metadata": {},
     "output_type": "execute_result"
    }
   ],
   "source": [
    "NHL_team_stats.shape"
   ]
  },
  {
   "cell_type": "code",
   "execution_count": 685,
   "metadata": {},
   "outputs": [
    {
     "data": {
      "text/plain": [
       "np.int64(0)"
      ]
     },
     "execution_count": 685,
     "metadata": {},
     "output_type": "execute_result"
    }
   ],
   "source": [
    "NHL_team_stats.duplicated().sum()"
   ]
  },
  {
   "cell_type": "code",
   "execution_count": 686,
   "metadata": {},
   "outputs": [
    {
     "data": {
      "text/html": [
       "<div>\n",
       "<style scoped>\n",
       "    .dataframe tbody tr th:only-of-type {\n",
       "        vertical-align: middle;\n",
       "    }\n",
       "\n",
       "    .dataframe tbody tr th {\n",
       "        vertical-align: top;\n",
       "    }\n",
       "\n",
       "    .dataframe thead th {\n",
       "        text-align: right;\n",
       "    }\n",
       "</style>\n",
       "<table border=\"1\" class=\"dataframe\">\n",
       "  <thead>\n",
       "    <tr style=\"text-align: right;\">\n",
       "      <th></th>\n",
       "      <th>game_id</th>\n",
       "      <th>team_id</th>\n",
       "      <th>won</th>\n",
       "      <th>goals</th>\n",
       "      <th>shots</th>\n",
       "      <th>hits</th>\n",
       "      <th>pim</th>\n",
       "      <th>powerPlayOpportunities</th>\n",
       "      <th>powerPlayGoals</th>\n",
       "      <th>faceOffWinPercentage</th>\n",
       "      <th>giveaways</th>\n",
       "      <th>takeaways</th>\n",
       "      <th>blocked</th>\n",
       "    </tr>\n",
       "  </thead>\n",
       "  <tbody>\n",
       "    <tr>\n",
       "      <th>count</th>\n",
       "      <td>4.744200e+04</td>\n",
       "      <td>47442.000000</td>\n",
       "      <td>47442.000000</td>\n",
       "      <td>47442.000000</td>\n",
       "      <td>47442.000000</td>\n",
       "      <td>47442.000000</td>\n",
       "      <td>47442.000000</td>\n",
       "      <td>47442.000000</td>\n",
       "      <td>47442.000000</td>\n",
       "      <td>47442.000000</td>\n",
       "      <td>47442.000000</td>\n",
       "      <td>47442.000000</td>\n",
       "      <td>47442.000000</td>\n",
       "    </tr>\n",
       "    <tr>\n",
       "      <th>mean</th>\n",
       "      <td>2.009924e+09</td>\n",
       "      <td>16.628135</td>\n",
       "      <td>0.486763</td>\n",
       "      <td>2.762236</td>\n",
       "      <td>29.784853</td>\n",
       "      <td>20.810189</td>\n",
       "      <td>12.118334</td>\n",
       "      <td>3.773576</td>\n",
       "      <td>0.676637</td>\n",
       "      <td>26.435226</td>\n",
       "      <td>8.581236</td>\n",
       "      <td>6.587033</td>\n",
       "      <td>13.192656</td>\n",
       "    </tr>\n",
       "    <tr>\n",
       "      <th>std</th>\n",
       "      <td>5.803685e+06</td>\n",
       "      <td>10.781315</td>\n",
       "      <td>0.499830</td>\n",
       "      <td>1.649067</td>\n",
       "      <td>6.856362</td>\n",
       "      <td>8.750605</td>\n",
       "      <td>9.213185</td>\n",
       "      <td>1.893063</td>\n",
       "      <td>0.818777</td>\n",
       "      <td>25.283856</td>\n",
       "      <td>5.193771</td>\n",
       "      <td>3.942311</td>\n",
       "      <td>5.332124</td>\n",
       "    </tr>\n",
       "    <tr>\n",
       "      <th>min</th>\n",
       "      <td>2.000020e+09</td>\n",
       "      <td>1.000000</td>\n",
       "      <td>0.000000</td>\n",
       "      <td>0.000000</td>\n",
       "      <td>4.000000</td>\n",
       "      <td>0.000000</td>\n",
       "      <td>0.000000</td>\n",
       "      <td>0.000000</td>\n",
       "      <td>0.000000</td>\n",
       "      <td>0.000000</td>\n",
       "      <td>0.000000</td>\n",
       "      <td>0.000000</td>\n",
       "      <td>0.000000</td>\n",
       "    </tr>\n",
       "    <tr>\n",
       "      <th>25%</th>\n",
       "      <td>2.005021e+09</td>\n",
       "      <td>8.000000</td>\n",
       "      <td>0.000000</td>\n",
       "      <td>2.000000</td>\n",
       "      <td>25.000000</td>\n",
       "      <td>15.000000</td>\n",
       "      <td>6.000000</td>\n",
       "      <td>2.000000</td>\n",
       "      <td>0.000000</td>\n",
       "      <td>0.000000</td>\n",
       "      <td>5.000000</td>\n",
       "      <td>4.000000</td>\n",
       "      <td>10.000000</td>\n",
       "    </tr>\n",
       "    <tr>\n",
       "      <th>50%</th>\n",
       "      <td>2.010021e+09</td>\n",
       "      <td>16.000000</td>\n",
       "      <td>0.000000</td>\n",
       "      <td>3.000000</td>\n",
       "      <td>29.000000</td>\n",
       "      <td>20.000000</td>\n",
       "      <td>10.000000</td>\n",
       "      <td>4.000000</td>\n",
       "      <td>0.000000</td>\n",
       "      <td>38.000000</td>\n",
       "      <td>8.000000</td>\n",
       "      <td>6.000000</td>\n",
       "      <td>13.000000</td>\n",
       "    </tr>\n",
       "    <tr>\n",
       "      <th>75%</th>\n",
       "      <td>2.015021e+09</td>\n",
       "      <td>24.000000</td>\n",
       "      <td>1.000000</td>\n",
       "      <td>4.000000</td>\n",
       "      <td>34.000000</td>\n",
       "      <td>26.000000</td>\n",
       "      <td>15.000000</td>\n",
       "      <td>5.000000</td>\n",
       "      <td>1.000000</td>\n",
       "      <td>50.000000</td>\n",
       "      <td>11.000000</td>\n",
       "      <td>9.000000</td>\n",
       "      <td>16.000000</td>\n",
       "    </tr>\n",
       "    <tr>\n",
       "      <th>max</th>\n",
       "      <td>2.019041e+09</td>\n",
       "      <td>90.000000</td>\n",
       "      <td>1.000000</td>\n",
       "      <td>12.000000</td>\n",
       "      <td>88.000000</td>\n",
       "      <td>80.000000</td>\n",
       "      <td>213.000000</td>\n",
       "      <td>16.000000</td>\n",
       "      <td>7.000000</td>\n",
       "      <td>79.000000</td>\n",
       "      <td>52.000000</td>\n",
       "      <td>40.000000</td>\n",
       "      <td>62.000000</td>\n",
       "    </tr>\n",
       "  </tbody>\n",
       "</table>\n",
       "</div>"
      ],
      "text/plain": [
       "            game_id       team_id           won         goals         shots  \\\n",
       "count  4.744200e+04  47442.000000  47442.000000  47442.000000  47442.000000   \n",
       "mean   2.009924e+09     16.628135      0.486763      2.762236     29.784853   \n",
       "std    5.803685e+06     10.781315      0.499830      1.649067      6.856362   \n",
       "min    2.000020e+09      1.000000      0.000000      0.000000      4.000000   \n",
       "25%    2.005021e+09      8.000000      0.000000      2.000000     25.000000   \n",
       "50%    2.010021e+09     16.000000      0.000000      3.000000     29.000000   \n",
       "75%    2.015021e+09     24.000000      1.000000      4.000000     34.000000   \n",
       "max    2.019041e+09     90.000000      1.000000     12.000000     88.000000   \n",
       "\n",
       "               hits           pim  powerPlayOpportunities  powerPlayGoals  \\\n",
       "count  47442.000000  47442.000000            47442.000000    47442.000000   \n",
       "mean      20.810189     12.118334                3.773576        0.676637   \n",
       "std        8.750605      9.213185                1.893063        0.818777   \n",
       "min        0.000000      0.000000                0.000000        0.000000   \n",
       "25%       15.000000      6.000000                2.000000        0.000000   \n",
       "50%       20.000000     10.000000                4.000000        0.000000   \n",
       "75%       26.000000     15.000000                5.000000        1.000000   \n",
       "max       80.000000    213.000000               16.000000        7.000000   \n",
       "\n",
       "       faceOffWinPercentage     giveaways     takeaways       blocked  \n",
       "count          47442.000000  47442.000000  47442.000000  47442.000000  \n",
       "mean              26.435226      8.581236      6.587033     13.192656  \n",
       "std               25.283856      5.193771      3.942311      5.332124  \n",
       "min                0.000000      0.000000      0.000000      0.000000  \n",
       "25%                0.000000      5.000000      4.000000     10.000000  \n",
       "50%               38.000000      8.000000      6.000000     13.000000  \n",
       "75%               50.000000     11.000000      9.000000     16.000000  \n",
       "max               79.000000     52.000000     40.000000     62.000000  "
      ]
     },
     "execution_count": 686,
     "metadata": {},
     "output_type": "execute_result"
    }
   ],
   "source": [
    "NHL_team_stats.describe()"
   ]
  },
  {
   "cell_type": "code",
   "execution_count": 687,
   "metadata": {},
   "outputs": [],
   "source": [
    "# Convert all float64 columns to int\n",
    "float_columns = NHL_team_stats.select_dtypes(include=['float64']).columns\n",
    "NHL_team_stats[float_columns] = NHL_team_stats[float_columns].astype(int)\n"
   ]
  },
  {
   "cell_type": "code",
   "execution_count": 688,
   "metadata": {},
   "outputs": [
    {
     "data": {
      "text/plain": [
       "game_id                   int64\n",
       "team_id                   int64\n",
       "won                       int64\n",
       "goals                     int64\n",
       "shots                     int64\n",
       "hits                      int64\n",
       "pim                       int64\n",
       "powerPlayOpportunities    int64\n",
       "powerPlayGoals            int64\n",
       "faceOffWinPercentage      int64\n",
       "giveaways                 int64\n",
       "takeaways                 int64\n",
       "blocked                   int64\n",
       "dtype: object"
      ]
     },
     "execution_count": 688,
     "metadata": {},
     "output_type": "execute_result"
    }
   ],
   "source": [
    "NHL_team_stats.dtypes"
   ]
  },
  {
   "attachments": {},
   "cell_type": "markdown",
   "metadata": {},
   "source": [
    "**Data Modeling**"
   ]
  },
  {
   "cell_type": "code",
   "execution_count": 692,
   "metadata": {},
   "outputs": [],
   "source": [
    "# Calculate the correlation matrix\n",
    "correlation_matrix = NHL_team_stats.corr()"
   ]
  },
  {
   "cell_type": "code",
   "execution_count": 693,
   "metadata": {},
   "outputs": [
    {
     "data": {
      "image/png": "[encoded data removed]",
      "text/plain": [
       "<Figure size 1200x800 with 2 Axes>"
      ]
     },
     "metadata": {},
     "output_type": "display_data"
    }
   ],
   "source": [
    "import seaborn as sns\n",
    "import matplotlib.pyplot as plt\n",
    "\n",
    "# Plot heatmap\n",
    "plt.figure(figsize=(12, 8))\n",
    "sns.heatmap(correlation_matrix, annot=True, cmap='coolwarm', fmt=\".2f\", linewidths=0.5)\n",
    "plt.show()"
   ]
  }
 ],
 "metadata": {
  "kernelspec": {
   "display_name": "Python 3",
   "language": "python",
   "name": "python3"
  },
  "language_info": {
   "codemirror_mode": {
    "name": "ipython",
    "version": 3
   },
   "file_extension": ".py",
   "mimetype": "text/x-python",
   "name": "python",
   "nbconvert_exporter": "python",
   "pygments_lexer": "ipython3",
   "version": "3.12.5"
  },
  "orig_nbformat": 4,
  "vscode": {
   "interpreter": {
    "hash": "aee8b7b246df8f9039afb4144a1f6fd8d2ca17a180786b69acc140d282b71a49"
   }
  }
 },
 "nbformat": 4,
 "nbformat_minor": 2
}
